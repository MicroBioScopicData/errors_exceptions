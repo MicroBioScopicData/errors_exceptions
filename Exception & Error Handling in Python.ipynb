{
 "cells": [
  {
   "cell_type": "markdown",
   "id": "77396296",
   "metadata": {
    "toc": true
   },
   "source": [
    "<h1>Table of Contents<span class=\"tocSkip\"></span></h1>\n",
    "<div class=\"toc\"><ul class=\"toc-item\"><li><span><a href=\"#Errors-and-Exceptions\" data-toc-modified-id=\"Errors-and-Exceptions-1\"><span class=\"toc-item-num\">1&nbsp;&nbsp;</span>Errors and Exceptions</a></span></li><li><span><a href=\"#Handling-Exceptions\" data-toc-modified-id=\"Handling-Exceptions-2\"><span class=\"toc-item-num\">2&nbsp;&nbsp;</span>Handling Exceptions</a></span><ul class=\"toc-item\"><li><span><a href=\"#Handling-Multiple-Exceptions\" data-toc-modified-id=\"Handling-Multiple-Exceptions-2.1\"><span class=\"toc-item-num\">2.1&nbsp;&nbsp;</span>Handling Multiple Exceptions</a></span></li><li><span><a href=\"#Using-else\" data-toc-modified-id=\"Using-else-2.2\"><span class=\"toc-item-num\">2.2&nbsp;&nbsp;</span>Using else</a></span></li><li><span><a href=\"#Using-finally\" data-toc-modified-id=\"Using-finally-2.3\"><span class=\"toc-item-num\">2.3&nbsp;&nbsp;</span>Using finally</a></span></li><li><span><a href=\"#Using-(limited-number-of)-retries\" data-toc-modified-id=\"Using-(limited-number-of)-retries-2.4\"><span class=\"toc-item-num\">2.4&nbsp;&nbsp;</span>Using (limited number of) retries</a></span></li></ul></li><li><span><a href=\"#Conclusion\" data-toc-modified-id=\"Conclusion-3\"><span class=\"toc-item-num\">3&nbsp;&nbsp;</span>Conclusion</a></span></li><li><span><a href=\"#References\" data-toc-modified-id=\"References-4\"><span class=\"toc-item-num\">4&nbsp;&nbsp;</span>References</a></span></li></ul></div>"
   ]
  },
  {
   "cell_type": "markdown",
   "id": "218c1607",
   "metadata": {},
   "source": [
    "# Exception & Error Handling in Python\n",
    "\n",
    "\n",
    "Errors and exceptions can cause a program to behave unexpectedly or even stop it. Python offers a range of functions and mechanisms to address/handle these issues and enhance the reliability of our code. In this tutorial, we will explore error handling concepts and demonstrate them with various examples.\n",
    "\n",
    "I have prepared a Jupyter Notebook to accompany this blog post, which can be viewed on my GitHub."
   ]
  },
  {
   "cell_type": "markdown",
   "id": "4fa3c3d6",
   "metadata": {},
   "source": [
    "![](article_catalog.jpg)\n",
    "\n",
    "https://medium.com/@microbioscopicdata/list/cryptocurrency-analysis-with-python-49b88d3ac944"
   ]
  },
  {
   "cell_type": "markdown",
   "id": "6f016d8f",
   "metadata": {},
   "source": [
    "## Errors and Exceptions\n",
    "\n",
    "An error signifies a problem within a program that obstructs its successful completion [1].There are mainly two types of errors in Python: \n",
    "\n",
    "- **Syntax Errors**: These occur when the code violates the rules of the Python language. They are typically detected by the Python interpreter during code compilation.  \n",
    "- **Exceptions**: Exceptions are errors that interrupts the normal flow of the program. They can happen for various reasons, such as division by zero,TypeError, attempting to access a non-existent file, or referencing a variable that doesn't exist.\n",
    "\n",
    "![](error_exception.jpg)\n"
   ]
  },
  {
   "cell_type": "markdown",
   "id": "6f00913a",
   "metadata": {},
   "source": [
    "## Handling Exceptions\n",
    " The code below has a TypeError (raised when attempting to add an integer to a string) that falls under the category of exceptions [2]. In this specific case, we are trying to add an integer (10) to a string (\"three\"), which is not a valid operation in Python, hence the TypeError is raised."
   ]
  },
  {
   "cell_type": "code",
   "execution_count": 18,
   "id": "ec3cb668",
   "metadata": {},
   "outputs": [
    {
     "name": "stdout",
     "output_type": "stream",
     "text": [
      "11\n",
      "12\n"
     ]
    },
    {
     "ename": "TypeError",
     "evalue": "unsupported operand type(s) for +: 'int' and 'str'",
     "output_type": "error",
     "traceback": [
      "\u001b[1;31m---------------------------------------------------------------------------\u001b[0m",
      "\u001b[1;31mTypeError\u001b[0m                                 Traceback (most recent call last)",
      "\u001b[1;32m~\\AppData\\Local\\Temp\\ipykernel_10524\\3620960640.py\u001b[0m in \u001b[0;36m<module>\u001b[1;34m\u001b[0m\n\u001b[0;32m      2\u001b[0m \u001b[1;33m\u001b[0m\u001b[0m\n\u001b[0;32m      3\u001b[0m \u001b[1;32mfor\u001b[0m \u001b[0melement\u001b[0m \u001b[1;32min\u001b[0m \u001b[0mmy_error_list\u001b[0m\u001b[1;33m:\u001b[0m\u001b[1;33m\u001b[0m\u001b[1;33m\u001b[0m\u001b[0m\n\u001b[1;32m----> 4\u001b[1;33m     \u001b[0mresult\u001b[0m \u001b[1;33m=\u001b[0m \u001b[1;36m10\u001b[0m \u001b[1;33m+\u001b[0m \u001b[0melement\u001b[0m\u001b[1;33m\u001b[0m\u001b[1;33m\u001b[0m\u001b[0m\n\u001b[0m\u001b[0;32m      5\u001b[0m     \u001b[0mprint\u001b[0m\u001b[1;33m(\u001b[0m\u001b[0mresult\u001b[0m\u001b[1;33m)\u001b[0m\u001b[1;33m\u001b[0m\u001b[1;33m\u001b[0m\u001b[0m\n",
      "\u001b[1;31mTypeError\u001b[0m: unsupported operand type(s) for +: 'int' and 'str'"
     ]
    }
   ],
   "source": [
    "my_error_list = [1,2,\"three\",4]\n",
    "\n",
    "for element in my_error_list:\n",
    "    result = 10 + element\n",
    "    print(result)"
   ]
  },
  {
   "cell_type": "markdown",
   "id": "8b077aa0",
   "metadata": {},
   "source": [
    "We can use a try...except block to catch and handle the TypeError in our above code so that it doesn't cause our program to crash."
   ]
  },
  {
   "cell_type": "code",
   "execution_count": 19,
   "id": "49ab032c",
   "metadata": {},
   "outputs": [
    {
     "name": "stdout",
     "output_type": "stream",
     "text": [
      "11\n",
      "12\n",
      "three is not a number!\n",
      "14\n"
     ]
    }
   ],
   "source": [
    "my_error_list = [1, 2, \"three\", 4]\n",
    "\n",
    "for element in my_error_list:\n",
    "    try: \n",
    "        result = 10 + element# Perform addition\n",
    "        print(result)\n",
    "    except:\n",
    "        print(f\"{element} is not a number!\")"
   ]
  },
  {
   "cell_type": "markdown",
   "id": "cbec0bf5",
   "metadata": {},
   "source": [
    "We can enhance the error handling by specifically catching the TypeError using the following code. Where in case a TypeError occurs, it will print an error message indicating an issue with the addition."
   ]
  },
  {
   "cell_type": "code",
   "execution_count": 20,
   "id": "0aa4dbab",
   "metadata": {},
   "outputs": [
    {
     "name": "stdout",
     "output_type": "stream",
     "text": [
      "11\n",
      "12\n",
      "Error: unsupported operand type(s) for +: 'int' and 'str'\n",
      "14\n"
     ]
    }
   ],
   "source": [
    "my_error_list = [1, 2, \"three\", 4]\n",
    "\n",
    "for element in my_error_list:\n",
    "    try:\n",
    "        result = 10 + element #Perform addition\n",
    "        print(result)\n",
    "    except TypeError as e:\n",
    "        print(f\"Error: {e}\")"
   ]
  },
  {
   "cell_type": "markdown",
   "id": "ed744072",
   "metadata": {},
   "source": [
    "*However, it's important to note that if the error is not a TypeError but rather a ValueError, the program will still fail.*"
   ]
  },
  {
   "cell_type": "code",
   "execution_count": 21,
   "id": "483fd784",
   "metadata": {},
   "outputs": [
    {
     "name": "stdout",
     "output_type": "stream",
     "text": [
      "11\n",
      "12\n"
     ]
    },
    {
     "ename": "ValueError",
     "evalue": "invalid literal for int() with base 10: 'three'",
     "output_type": "error",
     "traceback": [
      "\u001b[1;31m---------------------------------------------------------------------------\u001b[0m",
      "\u001b[1;31mValueError\u001b[0m                                Traceback (most recent call last)",
      "\u001b[1;32m~\\AppData\\Local\\Temp\\ipykernel_10524\\438807784.py\u001b[0m in \u001b[0;36m<module>\u001b[1;34m\u001b[0m\n\u001b[0;32m      3\u001b[0m \u001b[1;32mfor\u001b[0m \u001b[0melement\u001b[0m \u001b[1;32min\u001b[0m \u001b[0mmy_error_list\u001b[0m\u001b[1;33m:\u001b[0m\u001b[1;33m\u001b[0m\u001b[1;33m\u001b[0m\u001b[0m\n\u001b[0;32m      4\u001b[0m     \u001b[1;32mtry\u001b[0m\u001b[1;33m:\u001b[0m\u001b[1;33m\u001b[0m\u001b[1;33m\u001b[0m\u001b[0m\n\u001b[1;32m----> 5\u001b[1;33m         \u001b[0melement\u001b[0m \u001b[1;33m=\u001b[0m \u001b[0mint\u001b[0m\u001b[1;33m(\u001b[0m\u001b[0melement\u001b[0m\u001b[1;33m)\u001b[0m\u001b[1;31m# Convert element to an integer\u001b[0m\u001b[1;33m\u001b[0m\u001b[1;33m\u001b[0m\u001b[0m\n\u001b[0m\u001b[0;32m      6\u001b[0m         \u001b[0mresult\u001b[0m \u001b[1;33m=\u001b[0m \u001b[1;36m10\u001b[0m \u001b[1;33m+\u001b[0m \u001b[0melement\u001b[0m \u001b[1;31m## Perform addition\u001b[0m\u001b[1;33m\u001b[0m\u001b[1;33m\u001b[0m\u001b[0m\n\u001b[0;32m      7\u001b[0m         \u001b[0mprint\u001b[0m\u001b[1;33m(\u001b[0m\u001b[0mresult\u001b[0m\u001b[1;33m)\u001b[0m\u001b[1;33m\u001b[0m\u001b[1;33m\u001b[0m\u001b[0m\n",
      "\u001b[1;31mValueError\u001b[0m: invalid literal for int() with base 10: 'three'"
     ]
    }
   ],
   "source": [
    "my_error_list = [1, 2, \"three\", 4]\n",
    "\n",
    "for element in my_error_list:\n",
    "    try:\n",
    "        element = int(element)# Convert element to an integer\n",
    "        result = 10 + element ## Perform addition\n",
    "        print(result)\n",
    "    except TypeError as e:\n",
    "        print(f\"Error: {e} - There was a problem with the addition.\")"
   ]
  },
  {
   "cell_type": "markdown",
   "id": "206e2a14",
   "metadata": {},
   "source": [
    "To handle both `TypeError` and `ValueError` exceptions, we can change except TypeError to a more generic except Exception, which will catch a broader range of exceptions."
   ]
  },
  {
   "cell_type": "code",
   "execution_count": 22,
   "id": "9fb9d23a",
   "metadata": {},
   "outputs": [
    {
     "name": "stdout",
     "output_type": "stream",
     "text": [
      "11\n",
      "12\n",
      "Error: invalid literal for int() with base 10: 'three'\n",
      "14\n"
     ]
    }
   ],
   "source": [
    "my_error_list = [1, 2, \"three\", 4]\n",
    "\n",
    "for element in my_error_list:\n",
    "    try:\n",
    "        element = int(element)  # Convert element to an integer\n",
    "        result = 10 + element   # Perform addition\n",
    "        print(result)\n",
    "    except Exception as e:\n",
    "        print(f\"Error: {e}\")\n"
   ]
  },
  {
   "cell_type": "markdown",
   "id": "87212811",
   "metadata": {},
   "source": [
    "###  Handling Multiple Exceptions\n",
    "\n",
    "Handling multiple exceptions in Python allows us to deal with various types of errors. We can use multiple except blocks or a single except block with multiple exception types. In the code below we implemented error handling to catch and handle three types of exceptions: `TypeError`, `ValueError`, and `ZeroDivisionError`. "
   ]
  },
  {
   "cell_type": "code",
   "execution_count": 23,
   "id": "96934101",
   "metadata": {},
   "outputs": [
    {
     "name": "stdout",
     "output_type": "stream",
     "text": [
      "Error: division by zero \n",
      "Error: division by zero \n",
      "Error: invalid literal for int() with base 10: 'three'\n",
      "Error: division by zero \n"
     ]
    }
   ],
   "source": [
    "my_error_list = [1, 2, \"three\", 4]\n",
    "\n",
    "for element in my_error_list:\n",
    "    try:\n",
    "        element = int(element)  # Convert element to an integer\n",
    "        result = 10 + element   # Perform addition\n",
    "        result/0\n",
    "        print(result)\n",
    "    except TypeError  as e:\n",
    "        print(f\"Error: {e}\")\n",
    "    except ValueError as e:\n",
    "        print(f\"Error: {e}\")\n",
    "    except ZeroDivisionError as e:\n",
    "        print(f\"Error: {e} \")"
   ]
  },
  {
   "cell_type": "markdown",
   "id": "d2ef9ae7",
   "metadata": {},
   "source": [
    "### Using else\n",
    "\n",
    "Using the else in error handling allows us to specify a block of code to execute **if no exceptions are raised in the try block**. This can be useful for separating the error-handling logic from the normal execution code. \n"
   ]
  },
  {
   "cell_type": "code",
   "execution_count": 26,
   "id": "77311b17",
   "metadata": {},
   "outputs": [
    {
     "name": "stdout",
     "output_type": "stream",
     "text": [
      "11\n",
      "12\n",
      "Error: unsupported operand type(s) for +: 'int' and 'str'\n",
      "14\n"
     ]
    }
   ],
   "source": [
    "my_error_list = [1, 2, \"three\", 4]\n",
    "\n",
    "for element in my_error_list:\n",
    "    try:\n",
    "        result = 10 + element #Perform addition\n",
    "    except TypeError as e:\n",
    "        print(f\"Error: {e}\")\n",
    "    else:#specify a block of code to execute if no exceptions are raised in the try block\n",
    "        print(result)\n"
   ]
  },
  {
   "cell_type": "markdown",
   "id": "52f57495",
   "metadata": {},
   "source": [
    "### Using finally\n",
    "\n",
    "\n",
    "The `finally` keyword within a try-except block is a section of code **that gets executed no matter if an exception occurs or not**. To put it simply, the finally section is the ultimate step following the try, except, and else blocks. It serves as a valuable tool for tasks such as resource cleanup, object closure, particularly for tasks like closing files.\n",
    "\n",
    "![](eroors_graph.jpg)"
   ]
  },
  {
   "cell_type": "code",
   "execution_count": 46,
   "id": "9b032580",
   "metadata": {},
   "outputs": [
    {
     "name": "stdout",
     "output_type": "stream",
     "text": [
      "11\n",
      "valid or not valid it does not matter\n",
      "12\n",
      "valid or not valid it does not matter\n",
      "Error: unsupported operand type(s) for +: 'int' and 'str'\n",
      "valid or not valid it does not matter\n",
      "14\n",
      "valid or not valid it does not matter\n"
     ]
    }
   ],
   "source": [
    "my_error_list = [1, 2, \"three\", 4]\n",
    "\n",
    "for element in my_error_list:\n",
    "    try:\n",
    "        result = 10 + element #Perform addition\n",
    "    except TypeError as e:\n",
    "        print(f\"Error: {e}\")\n",
    "    else:#specify a block of code to execute if no exceptions are raised in the try block\n",
    "        print(result)\n",
    "    finally:\n",
    "        print(\"valid or not valid it does not matter\")"
   ]
  },
  {
   "cell_type": "markdown",
   "id": "03f51875",
   "metadata": {},
   "source": [
    "### Using (limited number of) retries\n",
    "In coding, we often encounter situations with unpredictable outcomes, like errors stemming from random processes. One classic example of randomness leading to unexpected outcomes is when we communicate with APIs to fetch data from the web. These processes often involve factors beyond our control, such as temporary server issues or invalid requests.\n",
    "\n",
    "In such cases, the best strategy is to retry the operation if it fails. The code below runs a continuous loop where it simulates a random process, calculating a result. \n",
    "\n",
    "- If the calculation succeeds without errors, it prints the result and exits the loop.   \n",
    "- If an error occurs, such as division by zero, it catches the error, prints an error message, and retries the operation until success is achieved. This code illustrates a robust \"retry until it works\" strategy for managing unpredictable errors."
   ]
  },
  {
   "cell_type": "code",
   "execution_count": 47,
   "id": "d3ea6643",
   "metadata": {},
   "outputs": [
    {
     "name": "stdout",
     "output_type": "stream",
     "text": [
      "Success! Result: 1.0\n"
     ]
    }
   ],
   "source": [
    "import random\n",
    "\n",
    "while True:\n",
    "    try:\n",
    "        # Simulate a random process with two possible outcomes: 0 or 1\n",
    "        random_outcome = random.randint(0, 1)\n",
    "\n",
    "        # To handle potential division by zero errors, we calculate the result as 1 divided by the outcome\n",
    "        result = 1 / random_outcome\n",
    "\n",
    "        # If successful, print the result and exit the loop\n",
    "        print(f\"Success! Result: {result}\")\n",
    "        break\n",
    "    except ZeroDivisionError as e:\n",
    "        # Handle division by zero errors\n",
    "        print(f\"Error: {e}. Retrying...\")\n",
    "    except Exception as e:\n",
    "        # Handle other exceptions\n",
    "        print(f\"Error: {e}. Retrying...\")\n"
   ]
  },
  {
   "cell_type": "markdown",
   "id": "aceebbf3",
   "metadata": {},
   "source": [
    "If we would like to go one step further,, the code below continually generates random outcomes and attempts to calculate a result. This process continues until it either achieves a successful result or exhausts the maximum allowable attempts. Additionally, it incorporates error handling mechanisms to address scenarios such as division by zero and other exceptions. The code also keeps track of and reports the number of attempts made during its execution."
   ]
  },
  {
   "cell_type": "code",
   "execution_count": 45,
   "id": "cb5280ee",
   "metadata": {},
   "outputs": [
    {
     "name": "stdout",
     "output_type": "stream",
     "text": [
      "Error: division by zero. Retrying...\n",
      "Attempt: 1\n",
      "Error: division by zero. Retrying...\n",
      "Attempt: 2\n",
      "Error: division by zero. Retrying...\n",
      "Attempt: 3\n",
      "Error: division by zero. Retrying...\n",
      "Attempt: 4\n",
      "Programm stopped: Max attempted reached\n"
     ]
    }
   ],
   "source": [
    "import random\n",
    "\n",
    "max_attempt = 4\n",
    "attempt  = 0\n",
    "\n",
    "while True:\n",
    "    try:\n",
    "        # Simulate a random process with two possible outcomes: 0 or 1\n",
    "        random_outcome = random.randint(0, 1)\n",
    "\n",
    "        # To handle potential division by zero errors, we calculate the result as 1 divided by the outcome\n",
    "        result = 1 / random_outcome\n",
    "    except ZeroDivisionError as e:\n",
    "        # Handle division by zero errors\n",
    "        print(f\"Error: {e}. Retrying...\")\n",
    "    except Exception as e:\n",
    "        # Handle other exceptions\n",
    "        print(f\"Error: {e}. Retrying...\")\n",
    "    else:\n",
    "        # If successful, print the result and exit the loop\n",
    "        print(f\"Success! Result: {result}\")\n",
    "        success = True\n",
    "        break\n",
    "    finally:\n",
    "        attempt +=1\n",
    "        print(f\"Attempt: {attempt}\")\n",
    "         # Check if the maximum attempts have been reached and exit the program if so\n",
    "        if attempt>= max_attempt:\n",
    "            print(\"Programm stopped: Max attempted reached\")\n",
    "            break\n",
    "\n"
   ]
  },
  {
   "cell_type": "markdown",
   "id": "70607cc4",
   "metadata": {},
   "source": [
    "In retrying processes, it's essential to consider timing. Retries should be used for temporary issues, where the error is expected to resolve after a certain time. For instance, web server or connectivity problems often resolve within seconds. Thus, it's impractical to retry rapidly. To address this, we introduce waiting periods between retries.\n",
    "\n",
    "To demonstrate this, in the code below we import the time module and initialize key variables. Then, we create a loop with a set number of attempts and gradually increasing waiting times. After each failed attempt, we pause execution using time.sleep. Let's see this concept in action with Python"
   ]
  },
  {
   "cell_type": "code",
   "execution_count": 50,
   "id": "e725fc90",
   "metadata": {},
   "outputs": [
    {
     "name": "stdout",
     "output_type": "stream",
     "text": [
      "Success! Result: 1.0\n",
      "Attempt: 1\n"
     ]
    }
   ],
   "source": [
    "import time\n",
    "import random\n",
    "\n",
    "max_attempts = 4\n",
    "attempt = 0\n",
    "success = False\n",
    "wait_period = 1\n",
    "wait_increase = 5\n",
    "\n",
    "while attempt < max_attempts and not success:\n",
    "    try:\n",
    "        random_outcome = random.randint(0, 1)\n",
    "        result = 1 / random_outcome\n",
    "        success = True\n",
    "        print(f\"Success! Result: {result}\")\n",
    "    except ZeroDivisionError as e:\n",
    "        print(f\"Error: {e}. Retrying...\")\n",
    "    except Exception as e:\n",
    "        print(f\"Error: {e}. Retrying...\")\n",
    "    finally:\n",
    "        attempt += 1\n",
    "        print(f\"Attempt: {attempt}\")\n",
    "        if not success and attempt < max_attempts:\n",
    "            print(f\"Waiting for {wait_period} seconds before next attempt.\")\n",
    "            time.sleep(wait_period)\n",
    "            wait_period += wait_increase\n",
    "\n",
    "if not success:\n",
    "    print(\"Program stopped: Maximum attempts reached\")\n"
   ]
  },
  {
   "cell_type": "markdown",
   "id": "cf2a2db4",
   "metadata": {},
   "source": [
    "## Conclusion\n",
    "Error handling is essential for writing robust Python programs. By using try...except blocks, you can  handle exceptions, ensuring our code doesn't crash when unexpected situations arise. It's important to identify the types of exceptions our code may encounter and handle them appropriately to provide a better user experience and facilitate debugging."
   ]
  },
  {
   "cell_type": "markdown",
   "id": "51e30b25",
   "metadata": {},
   "source": [
    "## References\n",
    "[1]\t“Exception & Error Handling in Python | Tutorial by DataCamp.” https://www.datacamp.com/tutorial/exception-handling-python(accessed Aug. 25, 2023).  \n",
    "\n",
    "[2]\t“Automated Cryptocurrency Portfolio Investing with Python A-Z,” Udemy. https://www.udemy.com/course/automated-cryptocurrency-portfolio-investing-with-python/ (accessed Apr. 01, 2023).\n"
   ]
  },
  {
   "cell_type": "code",
   "execution_count": null,
   "id": "57cc8333",
   "metadata": {},
   "outputs": [],
   "source": []
  }
 ],
 "metadata": {
  "kernelspec": {
   "display_name": "Python 3 (ipykernel)",
   "language": "python",
   "name": "python3"
  },
  "language_info": {
   "codemirror_mode": {
    "name": "ipython",
    "version": 3
   },
   "file_extension": ".py",
   "mimetype": "text/x-python",
   "name": "python",
   "nbconvert_exporter": "python",
   "pygments_lexer": "ipython3",
   "version": "3.9.13"
  },
  "toc": {
   "base_numbering": 1,
   "nav_menu": {},
   "number_sections": true,
   "sideBar": false,
   "skip_h1_title": true,
   "title_cell": "Table of Contents",
   "title_sidebar": "Contents",
   "toc_cell": true,
   "toc_position": {
    "height": "490.833px",
    "left": "187px",
    "top": "139.635px",
    "width": "155.326px"
   },
   "toc_section_display": true,
   "toc_window_display": false
  }
 },
 "nbformat": 4,
 "nbformat_minor": 5
}
